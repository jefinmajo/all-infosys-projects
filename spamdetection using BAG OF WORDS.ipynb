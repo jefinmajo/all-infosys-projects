{
 "cells": [
  {
   "cell_type": "code",
   "execution_count": 5,
   "id": "c3148706-8a31-4620-b67f-2aa02be8cdb8",
   "metadata": {},
   "outputs": [],
   "source": [
    "import pandas as pd\n",
    "from sklearn.model_selection import train_test_split\n",
    "from sklearn.feature_extraction.text import CountVectorizer, TfidfTransformer\n",
    "from sklearn.naive_bayes import MultinomialNB\n",
    "from sklearn.pipeline import Pipeline\n",
    "from sklearn.metrics import classification_report, accuracy_score\n",
    "\n"
   ]
  },
  {
   "cell_type": "code",
   "execution_count": 21,
   "id": "bb4eef26-ad29-4922-aa9a-a4d740a3ae71",
   "metadata": {},
   "outputs": [],
   "source": [
    "data = pd.read_csv(r\"C:\\Users\\jefin\\Downloads\\spam.csv\", encoding='latin-1') \n",
    "\n"
   ]
  },
  {
   "cell_type": "code",
   "execution_count": 23,
   "id": "cd1b5ef5-5ef5-4a1d-a48f-9e3499561cba",
   "metadata": {},
   "outputs": [],
   "source": [
    "data = data.rename(columns={'v1': 'label', 'v2': 'text'})\n",
    "data = data[['text', 'label']]\n",
    "data['label'] = data['label'].map({'spam': 1, 'ham': 0})\n"
   ]
  },
  {
   "cell_type": "code",
   "execution_count": 25,
   "id": "693b04bb-bc23-4a26-a522-16c16f489b91",
   "metadata": {},
   "outputs": [],
   "source": [
    "X_train, X_test, y_train, y_test = train_test_split(\n",
    "    data['text'], data['label'], test_size=0.2, random_state=42\n",
    ")"
   ]
  },
  {
   "cell_type": "code",
   "execution_count": 27,
   "id": "f54d166c-675f-4380-9a1f-1ddc9e291e93",
   "metadata": {},
   "outputs": [],
   "source": [
    "pipeline = Pipeline([\n",
    "    ('vect', CountVectorizer()),  # Converts text to Bag-of-Words\n",
    "    ('tfidf', TfidfTransformer()),  # Applies TF-IDF weighting\n",
    "    ('clf', MultinomialNB()),  # Naive Bayes classifier\n",
    "])"
   ]
  },
  {
   "cell_type": "code",
   "execution_count": 29,
   "id": "43564c05-0d74-45c7-b0a1-31fac47ca03c",
   "metadata": {},
   "outputs": [
    {
     "name": "stdout",
     "output_type": "stream",
     "text": [
      "Accuracy: 0.96\n",
      "Classification Report:\n",
      "\n",
      "              precision    recall  f1-score   support\n",
      "\n",
      "           0       0.96      1.00      0.98       965\n",
      "           1       1.00      0.72      0.84       150\n",
      "\n",
      "    accuracy                           0.96      1115\n",
      "   macro avg       0.98      0.86      0.91      1115\n",
      "weighted avg       0.96      0.96      0.96      1115\n",
      "\n"
     ]
    }
   ],
   "source": [
    "# Train the model\n",
    "pipeline.fit(X_train, y_train)\n",
    "\n",
    "# Make predictions\n",
    "y_pred = pipeline.predict(X_test)\n",
    "\n",
    "# Evaluate the model\n",
    "accuracy = accuracy_score(y_test, y_pred)\n",
    "print(f\"Accuracy: {accuracy:.2f}\")\n",
    "print(\"Classification Report:\\n\")\n",
    "print(classification_report(y_test, y_pred))"
   ]
  },
  {
   "cell_type": "code",
   "execution_count": 31,
   "id": "4be0f56a-8054-45cf-ac1e-82df2a653337",
   "metadata": {},
   "outputs": [
    {
     "name": "stdout",
     "output_type": "stream",
     "text": [
      "Email: Congratulations! You've won a $1,000 gift card. Click here to claim now!\n",
      "Predicted Label: Spam\n",
      "\n",
      "Email: Hey, are we still on for the meeting tomorrow? Let me know.\n",
      "Predicted Label: Ham\n",
      "\n"
     ]
    }
   ],
   "source": [
    "example_emails = [\n",
    "    \"Congratulations! You've won a $1,000 gift card. Click here to claim now!\",\n",
    "    \"Hey, are we still on for the meeting tomorrow? Let me know.\"\n",
    "]\n",
    "\n",
    "predictions = pipeline.predict(example_emails)\n",
    "for email, pred in zip(example_emails, predictions):\n",
    "    label = 'Spam' if pred == 1 else 'Ham'\n",
    "    print(f\"Email: {email}\\nPredicted Label: {label}\\n\")\n"
   ]
  },
  {
   "cell_type": "code",
   "execution_count": null,
   "id": "24d37343-5090-4abd-8187-07fc2e12baad",
   "metadata": {},
   "outputs": [],
   "source": []
  }
 ],
 "metadata": {
  "kernelspec": {
   "display_name": "Python 3 (ipykernel)",
   "language": "python",
   "name": "python3"
  },
  "language_info": {
   "codemirror_mode": {
    "name": "ipython",
    "version": 3
   },
   "file_extension": ".py",
   "mimetype": "text/x-python",
   "name": "python",
   "nbconvert_exporter": "python",
   "pygments_lexer": "ipython3",
   "version": "3.12.3"
  }
 },
 "nbformat": 4,
 "nbformat_minor": 5
}
