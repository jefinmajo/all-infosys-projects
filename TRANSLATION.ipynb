{
 "cells": [
  {
   "cell_type": "code",
   "execution_count": 5,
   "id": "7ed4884d-8555-41b9-91a2-6318a89af938",
   "metadata": {},
   "outputs": [
    {
     "name": "stdin",
     "output_type": "stream",
     "text": [
      "Enter text to translate (or 'quit' to exit):  i like eating apples\n"
     ]
    },
    {
     "data": {
      "text/plain": [
       "'\"Me gusta comer manzanas.\"\\n\\nHere\\'s a breakdown of the translation:\\n\\n- \"I\" = \"Yo\"\\n- \"like\" = \"me gusta\"\\n- \"eating\" = \"comer\"\\n- \"apples\" = \"manzanas\"\\n\\nNote that in Spanish, the word for \"apple\" is \"manzana\", not \"apple\". This is because \"apple\" is an English loanword that has been adopted into Spanish.'"
      ]
     },
     "execution_count": 5,
     "metadata": {},
     "output_type": "execute_result"
    }
   ],
   "source": [
    "import requests\n",
    "\n",
    "def translate_text(text, model=\"llama3.2\"):\n",
    "    url = \"http://localhost:11434/api/generate\"\n",
    "    prompt = f\"Translate the following English text to Spanish: '{text}'\\n\\nSpanish translation:\"\n",
    "    \n",
    "    payload = {\n",
    "        \"model\": model,\n",
    "        \"prompt\": prompt,\n",
    "        \"stream\": False\n",
    "    }\n",
    "    \n",
    "    try:\n",
    "        response = requests.post(url, json=payload)\n",
    "        response.raise_for_status()\n",
    "        return response.json()[\"response\"].strip()\n",
    "    except requests.exceptions.RequestException as e:\n",
    "        return f\"Translation failed: {str(e)}\"\n",
    "\n",
    "def get_translation_input():\n",
    "    text = input(\"Enter text to translate (or 'quit' to exit): \")\n",
    "    if text.lower() == 'quit':\n",
    "        return None\n",
    "    \n",
    "    translation = translate_text(text)\n",
    "    return translation\n",
    "\n",
    "get_translation_input()\n"
   ]
  },
  {
   "cell_type": "code",
   "execution_count": null,
   "id": "e2de331f-745e-4ea8-85a8-b1a873e6d544",
   "metadata": {},
   "outputs": [],
   "source": []
  }
 ],
 "metadata": {
  "kernelspec": {
   "display_name": "Python 3 (ipykernel)",
   "language": "python",
   "name": "python3"
  },
  "language_info": {
   "codemirror_mode": {
    "name": "ipython",
    "version": 3
   },
   "file_extension": ".py",
   "mimetype": "text/x-python",
   "name": "python",
   "nbconvert_exporter": "python",
   "pygments_lexer": "ipython3",
   "version": "3.12.3"
  }
 },
 "nbformat": 4,
 "nbformat_minor": 5
}
